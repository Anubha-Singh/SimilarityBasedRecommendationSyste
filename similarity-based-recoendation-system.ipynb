{
 "cells": [
  {
   "cell_type": "code",
   "execution_count": 1,
   "metadata": {
    "execution": {
     "iopub.execute_input": "2020-09-26T01:04:11.543776Z",
     "iopub.status.busy": "2020-09-26T01:04:11.542922Z",
     "iopub.status.idle": "2020-09-26T01:04:12.680784Z",
     "shell.execute_reply": "2020-09-26T01:04:12.680025Z"
    },
    "papermill": {
     "duration": 1.16843,
     "end_time": "2020-09-26T01:04:12.680961",
     "exception": false,
     "start_time": "2020-09-26T01:04:11.512531",
     "status": "completed"
    },
    "tags": []
   },
   "outputs": [],
   "source": [
    "# import libraries\n",
    "\n",
    "import pandas as pd\n",
    "\n",
    "import seaborn as sns\n",
    "import matplotlib.pyplot as plt"
   ]
  },
  {
   "cell_type": "code",
   "execution_count": 2,
   "metadata": {
    "execution": {
     "iopub.execute_input": "2020-09-26T01:04:12.739407Z",
     "iopub.status.busy": "2020-09-26T01:04:12.738606Z",
     "iopub.status.idle": "2020-09-26T01:04:12.826277Z",
     "shell.execute_reply": "2020-09-26T01:04:12.825589Z"
    },
    "papermill": {
     "duration": 0.121707,
     "end_time": "2020-09-26T01:04:12.826428",
     "exception": false,
     "start_time": "2020-09-26T01:04:12.704721",
     "status": "completed"
    },
    "tags": []
   },
   "outputs": [],
   "source": [
    "# import dataset\n",
    "movies=pd.read_csv(\"../input/rating/ratings_small.csv\")\n"
   ]
  },
  {
   "cell_type": "code",
   "execution_count": 3,
   "metadata": {
    "execution": {
     "iopub.execute_input": "2020-09-26T01:04:12.888064Z",
     "iopub.status.busy": "2020-09-26T01:04:12.887206Z",
     "iopub.status.idle": "2020-09-26T01:04:12.897253Z",
     "shell.execute_reply": "2020-09-26T01:04:12.897831Z"
    },
    "papermill": {
     "duration": 0.047877,
     "end_time": "2020-09-26T01:04:12.897998",
     "exception": false,
     "start_time": "2020-09-26T01:04:12.850121",
     "status": "completed"
    },
    "tags": []
   },
   "outputs": [
    {
     "data": {
      "text/html": [
       "<div>\n",
       "<style scoped>\n",
       "    .dataframe tbody tr th:only-of-type {\n",
       "        vertical-align: middle;\n",
       "    }\n",
       "\n",
       "    .dataframe tbody tr th {\n",
       "        vertical-align: top;\n",
       "    }\n",
       "\n",
       "    .dataframe thead th {\n",
       "        text-align: right;\n",
       "    }\n",
       "</style>\n",
       "<table border=\"1\" class=\"dataframe\">\n",
       "  <thead>\n",
       "    <tr style=\"text-align: right;\">\n",
       "      <th></th>\n",
       "      <th>userId</th>\n",
       "      <th>movieId</th>\n",
       "      <th>rating</th>\n",
       "      <th>timestamp</th>\n",
       "    </tr>\n",
       "  </thead>\n",
       "  <tbody>\n",
       "    <tr>\n",
       "      <th>0</th>\n",
       "      <td>1</td>\n",
       "      <td>31</td>\n",
       "      <td>2.5</td>\n",
       "      <td>1260759144</td>\n",
       "    </tr>\n",
       "    <tr>\n",
       "      <th>1</th>\n",
       "      <td>1</td>\n",
       "      <td>1029</td>\n",
       "      <td>3.0</td>\n",
       "      <td>1260759179</td>\n",
       "    </tr>\n",
       "    <tr>\n",
       "      <th>2</th>\n",
       "      <td>1</td>\n",
       "      <td>1061</td>\n",
       "      <td>3.0</td>\n",
       "      <td>1260759182</td>\n",
       "    </tr>\n",
       "    <tr>\n",
       "      <th>3</th>\n",
       "      <td>1</td>\n",
       "      <td>1129</td>\n",
       "      <td>2.0</td>\n",
       "      <td>1260759185</td>\n",
       "    </tr>\n",
       "    <tr>\n",
       "      <th>4</th>\n",
       "      <td>1</td>\n",
       "      <td>1172</td>\n",
       "      <td>4.0</td>\n",
       "      <td>1260759205</td>\n",
       "    </tr>\n",
       "  </tbody>\n",
       "</table>\n",
       "</div>"
      ],
      "text/plain": [
       "   userId  movieId  rating   timestamp\n",
       "0       1       31     2.5  1260759144\n",
       "1       1     1029     3.0  1260759179\n",
       "2       1     1061     3.0  1260759182\n",
       "3       1     1129     2.0  1260759185\n",
       "4       1     1172     4.0  1260759205"
      ]
     },
     "execution_count": 3,
     "metadata": {},
     "output_type": "execute_result"
    }
   ],
   "source": [
    "# observe the head of the dataset\n",
    "movies.head()\n"
   ]
  },
  {
   "cell_type": "markdown",
   "metadata": {
    "papermill": {
     "duration": 0.024253,
     "end_time": "2020-09-26T01:04:12.947092",
     "exception": false,
     "start_time": "2020-09-26T01:04:12.922839",
     "status": "completed"
    },
    "tags": []
   },
   "source": [
    "in this dataset, the variable `timestamp` is not helpful to build this recommendation system, so we can delete this variable from our dataset"
   ]
  },
  {
   "cell_type": "code",
   "execution_count": 4,
   "metadata": {
    "execution": {
     "iopub.execute_input": "2020-09-26T01:04:13.002958Z",
     "iopub.status.busy": "2020-09-26T01:04:13.001913Z",
     "iopub.status.idle": "2020-09-26T01:04:13.006549Z",
     "shell.execute_reply": "2020-09-26T01:04:13.005921Z"
    },
    "papermill": {
     "duration": 0.033885,
     "end_time": "2020-09-26T01:04:13.006678",
     "exception": false,
     "start_time": "2020-09-26T01:04:12.972793",
     "status": "completed"
    },
    "tags": []
   },
   "outputs": [
    {
     "data": {
      "text/plain": [
       "(100004, 4)"
      ]
     },
     "execution_count": 4,
     "metadata": {},
     "output_type": "execute_result"
    }
   ],
   "source": [
    "movies.shape"
   ]
  },
  {
   "cell_type": "code",
   "execution_count": 5,
   "metadata": {
    "execution": {
     "iopub.execute_input": "2020-09-26T01:04:13.070381Z",
     "iopub.status.busy": "2020-09-26T01:04:13.069538Z",
     "iopub.status.idle": "2020-09-26T01:04:13.073338Z",
     "shell.execute_reply": "2020-09-26T01:04:13.072630Z"
    },
    "papermill": {
     "duration": 0.042387,
     "end_time": "2020-09-26T01:04:13.073469",
     "exception": false,
     "start_time": "2020-09-26T01:04:13.031082",
     "status": "completed"
    },
    "tags": []
   },
   "outputs": [],
   "source": [
    "# remove the variable timestamp from the dataset\n",
    "movies=movies.drop(['timestamp'],axis=1)\n"
   ]
  },
  {
   "cell_type": "code",
   "execution_count": 6,
   "metadata": {
    "execution": {
     "iopub.execute_input": "2020-09-26T01:04:13.142322Z",
     "iopub.status.busy": "2020-09-26T01:04:13.141218Z",
     "iopub.status.idle": "2020-09-26T01:04:13.146617Z",
     "shell.execute_reply": "2020-09-26T01:04:13.145821Z"
    },
    "papermill": {
     "duration": 0.038699,
     "end_time": "2020-09-26T01:04:13.146756",
     "exception": false,
     "start_time": "2020-09-26T01:04:13.108057",
     "status": "completed"
    },
    "tags": []
   },
   "outputs": [
    {
     "data": {
      "text/plain": [
       "(100004, 3)"
      ]
     },
     "execution_count": 6,
     "metadata": {},
     "output_type": "execute_result"
    }
   ],
   "source": [
    "# see the shape of the dataset\n",
    "\n",
    "movies.shape"
   ]
  },
  {
   "cell_type": "code",
   "execution_count": 7,
   "metadata": {
    "execution": {
     "iopub.execute_input": "2020-09-26T01:04:13.214247Z",
     "iopub.status.busy": "2020-09-26T01:04:13.212995Z",
     "iopub.status.idle": "2020-09-26T01:04:13.219178Z",
     "shell.execute_reply": "2020-09-26T01:04:13.218415Z"
    },
    "papermill": {
     "duration": 0.046714,
     "end_time": "2020-09-26T01:04:13.219349",
     "exception": false,
     "start_time": "2020-09-26T01:04:13.172635",
     "status": "completed"
    },
    "tags": []
   },
   "outputs": [
    {
     "data": {
      "text/plain": [
       "userId     0\n",
       "movieId    0\n",
       "rating     0\n",
       "dtype: int64"
      ]
     },
     "execution_count": 7,
     "metadata": {},
     "output_type": "execute_result"
    }
   ],
   "source": [
    "# check for missing values\n",
    "movies.isnull().sum()\n"
   ]
  },
  {
   "cell_type": "code",
   "execution_count": 8,
   "metadata": {
    "execution": {
     "iopub.execute_input": "2020-09-26T01:04:13.281581Z",
     "iopub.status.busy": "2020-09-26T01:04:13.280488Z",
     "iopub.status.idle": "2020-09-26T01:04:13.287002Z",
     "shell.execute_reply": "2020-09-26T01:04:13.286339Z"
    },
    "papermill": {
     "duration": 0.040911,
     "end_time": "2020-09-26T01:04:13.287129",
     "exception": false,
     "start_time": "2020-09-26T01:04:13.246218",
     "status": "completed"
    },
    "tags": []
   },
   "outputs": [
    {
     "data": {
      "text/plain": [
       "671"
      ]
     },
     "execution_count": 8,
     "metadata": {},
     "output_type": "execute_result"
    }
   ],
   "source": [
    "# total number of unique users\n",
    "len(movies['userId'].unique())\n"
   ]
  },
  {
   "cell_type": "code",
   "execution_count": 9,
   "metadata": {
    "execution": {
     "iopub.execute_input": "2020-09-26T01:04:13.348906Z",
     "iopub.status.busy": "2020-09-26T01:04:13.347780Z",
     "iopub.status.idle": "2020-09-26T01:04:13.354733Z",
     "shell.execute_reply": "2020-09-26T01:04:13.355343Z"
    },
    "papermill": {
     "duration": 0.040964,
     "end_time": "2020-09-26T01:04:13.355521",
     "exception": false,
     "start_time": "2020-09-26T01:04:13.314557",
     "status": "completed"
    },
    "tags": []
   },
   "outputs": [
    {
     "data": {
      "text/plain": [
       "9066"
      ]
     },
     "execution_count": 9,
     "metadata": {},
     "output_type": "execute_result"
    }
   ],
   "source": [
    "# total number of unique movies\n",
    "\n",
    "len(movies['movieId'].unique())"
   ]
  },
  {
   "cell_type": "code",
   "execution_count": 10,
   "metadata": {
    "execution": {
     "iopub.execute_input": "2020-09-26T01:04:13.417611Z",
     "iopub.status.busy": "2020-09-26T01:04:13.416469Z",
     "iopub.status.idle": "2020-09-26T01:04:13.428677Z",
     "shell.execute_reply": "2020-09-26T01:04:13.427640Z"
    },
    "papermill": {
     "duration": 0.045544,
     "end_time": "2020-09-26T01:04:13.428827",
     "exception": false,
     "start_time": "2020-09-26T01:04:13.383283",
     "status": "completed"
    },
    "tags": []
   },
   "outputs": [
    {
     "data": {
      "text/plain": [
       "547    2391\n",
       "564    1868\n",
       "624    1735\n",
       "15     1700\n",
       "73     1610\n",
       "       ... \n",
       "221      20\n",
       "444      20\n",
       "484      20\n",
       "35       20\n",
       "485      20\n",
       "Name: userId, Length: 671, dtype: int64"
      ]
     },
     "execution_count": 10,
     "metadata": {},
     "output_type": "execute_result"
    }
   ],
   "source": [
    "# which user has rated the most\n",
    "movies['userId'].value_counts()"
   ]
  },
  {
   "cell_type": "code",
   "execution_count": 11,
   "metadata": {
    "execution": {
     "iopub.execute_input": "2020-09-26T01:04:13.494264Z",
     "iopub.status.busy": "2020-09-26T01:04:13.493259Z",
     "iopub.status.idle": "2020-09-26T01:04:13.783722Z",
     "shell.execute_reply": "2020-09-26T01:04:13.782896Z"
    },
    "papermill": {
     "duration": 0.326516,
     "end_time": "2020-09-26T01:04:13.783893",
     "exception": false,
     "start_time": "2020-09-26T01:04:13.457377",
     "status": "completed"
    },
    "tags": []
   },
   "outputs": [
    {
     "data": {
      "image/png": "[encoded data removed]",
      "text/plain": [
       "<Figure size 432x288 with 1 Axes>"
      ]
     },
     "metadata": {
      "needs_background": "light"
     },
     "output_type": "display_data"
    }
   ],
   "source": [
    "# create a histogram of all the interactions by all the users present in the dataset\n",
    "interactions=movies.groupby('userId').count()['movieId']\n",
    "plt.hist(interactions,bins=30)\n",
    "plt.show()"
   ]
  },
  {
   "cell_type": "code",
   "execution_count": 12,
   "metadata": {
    "execution": {
     "iopub.execute_input": "2020-09-26T01:04:13.852851Z",
     "iopub.status.busy": "2020-09-26T01:04:13.851946Z",
     "iopub.status.idle": "2020-09-26T01:04:13.856859Z",
     "shell.execute_reply": "2020-09-26T01:04:13.856058Z"
    },
    "papermill": {
     "duration": 0.041552,
     "end_time": "2020-09-26T01:04:13.857003",
     "exception": false,
     "start_time": "2020-09-26T01:04:13.815451",
     "status": "completed"
    },
    "tags": []
   },
   "outputs": [
    {
     "data": {
      "text/plain": [
       "userId\n",
       "1       20\n",
       "2       76\n",
       "3       51\n",
       "4      204\n",
       "5      100\n",
       "      ... \n",
       "667     68\n",
       "668     20\n",
       "669     37\n",
       "670     31\n",
       "671    115\n",
       "Name: movieId, Length: 671, dtype: int64"
      ]
     },
     "execution_count": 12,
     "metadata": {},
     "output_type": "execute_result"
    }
   ],
   "source": [
    "interactions"
   ]
  },
  {
   "cell_type": "code",
   "execution_count": 13,
   "metadata": {
    "execution": {
     "iopub.execute_input": "2020-09-26T01:04:13.932920Z",
     "iopub.status.busy": "2020-09-26T01:04:13.931947Z",
     "iopub.status.idle": "2020-09-26T01:04:13.937514Z",
     "shell.execute_reply": "2020-09-26T01:04:13.936841Z"
    },
    "papermill": {
     "duration": 0.049781,
     "end_time": "2020-09-26T01:04:13.937664",
     "exception": false,
     "start_time": "2020-09-26T01:04:13.887883",
     "status": "completed"
    },
    "tags": []
   },
   "outputs": [
    {
     "data": {
      "text/html": [
       "<div>\n",
       "<style scoped>\n",
       "    .dataframe tbody tr th:only-of-type {\n",
       "        vertical-align: middle;\n",
       "    }\n",
       "\n",
       "    .dataframe tbody tr th {\n",
       "        vertical-align: top;\n",
       "    }\n",
       "\n",
       "    .dataframe thead th {\n",
       "        text-align: right;\n",
       "    }\n",
       "</style>\n",
       "<table border=\"1\" class=\"dataframe\">\n",
       "  <thead>\n",
       "    <tr style=\"text-align: right;\">\n",
       "      <th></th>\n",
       "      <th>userId</th>\n",
       "      <th>movieId</th>\n",
       "      <th>rating</th>\n",
       "    </tr>\n",
       "  </thead>\n",
       "  <tbody>\n",
       "    <tr>\n",
       "      <th>0</th>\n",
       "      <td>1</td>\n",
       "      <td>31</td>\n",
       "      <td>2.5</td>\n",
       "    </tr>\n",
       "    <tr>\n",
       "      <th>1</th>\n",
       "      <td>1</td>\n",
       "      <td>1029</td>\n",
       "      <td>3.0</td>\n",
       "    </tr>\n",
       "    <tr>\n",
       "      <th>2</th>\n",
       "      <td>1</td>\n",
       "      <td>1061</td>\n",
       "      <td>3.0</td>\n",
       "    </tr>\n",
       "    <tr>\n",
       "      <th>3</th>\n",
       "      <td>1</td>\n",
       "      <td>1129</td>\n",
       "      <td>2.0</td>\n",
       "    </tr>\n",
       "    <tr>\n",
       "      <th>4</th>\n",
       "      <td>1</td>\n",
       "      <td>1172</td>\n",
       "      <td>4.0</td>\n",
       "    </tr>\n",
       "    <tr>\n",
       "      <th>...</th>\n",
       "      <td>...</td>\n",
       "      <td>...</td>\n",
       "      <td>...</td>\n",
       "    </tr>\n",
       "    <tr>\n",
       "      <th>99999</th>\n",
       "      <td>671</td>\n",
       "      <td>6268</td>\n",
       "      <td>2.5</td>\n",
       "    </tr>\n",
       "    <tr>\n",
       "      <th>100000</th>\n",
       "      <td>671</td>\n",
       "      <td>6269</td>\n",
       "      <td>4.0</td>\n",
       "    </tr>\n",
       "    <tr>\n",
       "      <th>100001</th>\n",
       "      <td>671</td>\n",
       "      <td>6365</td>\n",
       "      <td>4.0</td>\n",
       "    </tr>\n",
       "    <tr>\n",
       "      <th>100002</th>\n",
       "      <td>671</td>\n",
       "      <td>6385</td>\n",
       "      <td>2.5</td>\n",
       "    </tr>\n",
       "    <tr>\n",
       "      <th>100003</th>\n",
       "      <td>671</td>\n",
       "      <td>6565</td>\n",
       "      <td>3.5</td>\n",
       "    </tr>\n",
       "  </tbody>\n",
       "</table>\n",
       "<p>100004 rows × 3 columns</p>\n",
       "</div>"
      ],
      "text/plain": [
       "        userId  movieId  rating\n",
       "0            1       31     2.5\n",
       "1            1     1029     3.0\n",
       "2            1     1061     3.0\n",
       "3            1     1129     2.0\n",
       "4            1     1172     4.0\n",
       "...        ...      ...     ...\n",
       "99999      671     6268     2.5\n",
       "100000     671     6269     4.0\n",
       "100001     671     6365     4.0\n",
       "100002     671     6385     2.5\n",
       "100003     671     6565     3.5\n",
       "\n",
       "[100004 rows x 3 columns]"
      ]
     },
     "execution_count": 13,
     "metadata": {},
     "output_type": "execute_result"
    }
   ],
   "source": [
    "movies"
   ]
  },
  {
   "cell_type": "code",
   "execution_count": 14,
   "metadata": {
    "execution": {
     "iopub.execute_input": "2020-09-26T01:04:14.006831Z",
     "iopub.status.busy": "2020-09-26T01:04:14.005628Z",
     "iopub.status.idle": "2020-09-26T01:04:14.092056Z",
     "shell.execute_reply": "2020-09-26T01:04:14.091205Z"
    },
    "papermill": {
     "duration": 0.123395,
     "end_time": "2020-09-26T01:04:14.092220",
     "exception": false,
     "start_time": "2020-09-26T01:04:13.968825",
     "status": "completed"
    },
    "tags": []
   },
   "outputs": [],
   "source": [
    "# create the user item matrix using the ratings dataset - Hint: try using pivot function \n",
    "\n",
    "interactions_matrix=movies.pivot(index='userId',columns='movieId',values='rating')"
   ]
  },
  {
   "cell_type": "code",
   "execution_count": 15,
   "metadata": {
    "execution": {
     "iopub.execute_input": "2020-09-26T01:04:14.161218Z",
     "iopub.status.busy": "2020-09-26T01:04:14.160009Z",
     "iopub.status.idle": "2020-09-26T01:04:14.165216Z",
     "shell.execute_reply": "2020-09-26T01:04:14.164439Z"
    },
    "papermill": {
     "duration": 0.041816,
     "end_time": "2020-09-26T01:04:14.165348",
     "exception": false,
     "start_time": "2020-09-26T01:04:14.123532",
     "status": "completed"
    },
    "tags": []
   },
   "outputs": [
    {
     "data": {
      "text/plain": [
       "(671, 9066)"
      ]
     },
     "execution_count": 15,
     "metadata": {},
     "output_type": "execute_result"
    }
   ],
   "source": [
    "# check the shape of the matrix\n",
    "\n",
    "interactions_matrix.shape"
   ]
  },
  {
   "cell_type": "code",
   "execution_count": 16,
   "metadata": {
    "execution": {
     "iopub.execute_input": "2020-09-26T01:04:14.258010Z",
     "iopub.status.busy": "2020-09-26T01:04:14.256924Z",
     "iopub.status.idle": "2020-09-26T01:04:14.262507Z",
     "shell.execute_reply": "2020-09-26T01:04:14.261701Z"
    },
    "papermill": {
     "duration": 0.064917,
     "end_time": "2020-09-26T01:04:14.262639",
     "exception": false,
     "start_time": "2020-09-26T01:04:14.197722",
     "status": "completed"
    },
    "tags": []
   },
   "outputs": [
    {
     "data": {
      "text/html": [
       "<div>\n",
       "<style scoped>\n",
       "    .dataframe tbody tr th:only-of-type {\n",
       "        vertical-align: middle;\n",
       "    }\n",
       "\n",
       "    .dataframe tbody tr th {\n",
       "        vertical-align: top;\n",
       "    }\n",
       "\n",
       "    .dataframe thead th {\n",
       "        text-align: right;\n",
       "    }\n",
       "</style>\n",
       "<table border=\"1\" class=\"dataframe\">\n",
       "  <thead>\n",
       "    <tr style=\"text-align: right;\">\n",
       "      <th>movieId</th>\n",
       "      <th>1</th>\n",
       "      <th>2</th>\n",
       "      <th>3</th>\n",
       "      <th>4</th>\n",
       "      <th>5</th>\n",
       "      <th>6</th>\n",
       "      <th>7</th>\n",
       "      <th>8</th>\n",
       "      <th>9</th>\n",
       "      <th>10</th>\n",
       "      <th>...</th>\n",
       "      <th>161084</th>\n",
       "      <th>161155</th>\n",
       "      <th>161594</th>\n",
       "      <th>161830</th>\n",
       "      <th>161918</th>\n",
       "      <th>161944</th>\n",
       "      <th>162376</th>\n",
       "      <th>162542</th>\n",
       "      <th>162672</th>\n",
       "      <th>163949</th>\n",
       "    </tr>\n",
       "    <tr>\n",
       "      <th>userId</th>\n",
       "      <th></th>\n",
       "      <th></th>\n",
       "      <th></th>\n",
       "      <th></th>\n",
       "      <th></th>\n",
       "      <th></th>\n",
       "      <th></th>\n",
       "      <th></th>\n",
       "      <th></th>\n",
       "      <th></th>\n",
       "      <th></th>\n",
       "      <th></th>\n",
       "      <th></th>\n",
       "      <th></th>\n",
       "      <th></th>\n",
       "      <th></th>\n",
       "      <th></th>\n",
       "      <th></th>\n",
       "      <th></th>\n",
       "      <th></th>\n",
       "      <th></th>\n",
       "    </tr>\n",
       "  </thead>\n",
       "  <tbody>\n",
       "    <tr>\n",
       "      <th>1</th>\n",
       "      <td>NaN</td>\n",
       "      <td>NaN</td>\n",
       "      <td>NaN</td>\n",
       "      <td>NaN</td>\n",
       "      <td>NaN</td>\n",
       "      <td>NaN</td>\n",
       "      <td>NaN</td>\n",
       "      <td>NaN</td>\n",
       "      <td>NaN</td>\n",
       "      <td>NaN</td>\n",
       "      <td>...</td>\n",
       "      <td>NaN</td>\n",
       "      <td>NaN</td>\n",
       "      <td>NaN</td>\n",
       "      <td>NaN</td>\n",
       "      <td>NaN</td>\n",
       "      <td>NaN</td>\n",
       "      <td>NaN</td>\n",
       "      <td>NaN</td>\n",
       "      <td>NaN</td>\n",
       "      <td>NaN</td>\n",
       "    </tr>\n",
       "    <tr>\n",
       "      <th>2</th>\n",
       "      <td>NaN</td>\n",
       "      <td>NaN</td>\n",
       "      <td>NaN</td>\n",
       "      <td>NaN</td>\n",
       "      <td>NaN</td>\n",
       "      <td>NaN</td>\n",
       "      <td>NaN</td>\n",
       "      <td>NaN</td>\n",
       "      <td>NaN</td>\n",
       "      <td>4.0</td>\n",
       "      <td>...</td>\n",
       "      <td>NaN</td>\n",
       "      <td>NaN</td>\n",
       "      <td>NaN</td>\n",
       "      <td>NaN</td>\n",
       "      <td>NaN</td>\n",
       "      <td>NaN</td>\n",
       "      <td>NaN</td>\n",
       "      <td>NaN</td>\n",
       "      <td>NaN</td>\n",
       "      <td>NaN</td>\n",
       "    </tr>\n",
       "    <tr>\n",
       "      <th>3</th>\n",
       "      <td>NaN</td>\n",
       "      <td>NaN</td>\n",
       "      <td>NaN</td>\n",
       "      <td>NaN</td>\n",
       "      <td>NaN</td>\n",
       "      <td>NaN</td>\n",
       "      <td>NaN</td>\n",
       "      <td>NaN</td>\n",
       "      <td>NaN</td>\n",
       "      <td>NaN</td>\n",
       "      <td>...</td>\n",
       "      <td>NaN</td>\n",
       "      <td>NaN</td>\n",
       "      <td>NaN</td>\n",
       "      <td>NaN</td>\n",
       "      <td>NaN</td>\n",
       "      <td>NaN</td>\n",
       "      <td>NaN</td>\n",
       "      <td>NaN</td>\n",
       "      <td>NaN</td>\n",
       "      <td>NaN</td>\n",
       "    </tr>\n",
       "    <tr>\n",
       "      <th>4</th>\n",
       "      <td>NaN</td>\n",
       "      <td>NaN</td>\n",
       "      <td>NaN</td>\n",
       "      <td>NaN</td>\n",
       "      <td>NaN</td>\n",
       "      <td>NaN</td>\n",
       "      <td>NaN</td>\n",
       "      <td>NaN</td>\n",
       "      <td>NaN</td>\n",
       "      <td>4.0</td>\n",
       "      <td>...</td>\n",
       "      <td>NaN</td>\n",
       "      <td>NaN</td>\n",
       "      <td>NaN</td>\n",
       "      <td>NaN</td>\n",
       "      <td>NaN</td>\n",
       "      <td>NaN</td>\n",
       "      <td>NaN</td>\n",
       "      <td>NaN</td>\n",
       "      <td>NaN</td>\n",
       "      <td>NaN</td>\n",
       "    </tr>\n",
       "    <tr>\n",
       "      <th>5</th>\n",
       "      <td>NaN</td>\n",
       "      <td>NaN</td>\n",
       "      <td>4.0</td>\n",
       "      <td>NaN</td>\n",
       "      <td>NaN</td>\n",
       "      <td>NaN</td>\n",
       "      <td>NaN</td>\n",
       "      <td>NaN</td>\n",
       "      <td>NaN</td>\n",
       "      <td>NaN</td>\n",
       "      <td>...</td>\n",
       "      <td>NaN</td>\n",
       "      <td>NaN</td>\n",
       "      <td>NaN</td>\n",
       "      <td>NaN</td>\n",
       "      <td>NaN</td>\n",
       "      <td>NaN</td>\n",
       "      <td>NaN</td>\n",
       "      <td>NaN</td>\n",
       "      <td>NaN</td>\n",
       "      <td>NaN</td>\n",
       "    </tr>\n",
       "  </tbody>\n",
       "</table>\n",
       "<p>5 rows × 9066 columns</p>\n",
       "</div>"
      ],
      "text/plain": [
       "movieId  1       2       3       4       5       6       7       8       \\\n",
       "userId                                                                    \n",
       "1           NaN     NaN     NaN     NaN     NaN     NaN     NaN     NaN   \n",
       "2           NaN     NaN     NaN     NaN     NaN     NaN     NaN     NaN   \n",
       "3           NaN     NaN     NaN     NaN     NaN     NaN     NaN     NaN   \n",
       "4           NaN     NaN     NaN     NaN     NaN     NaN     NaN     NaN   \n",
       "5           NaN     NaN     4.0     NaN     NaN     NaN     NaN     NaN   \n",
       "\n",
       "movieId  9       10      ...  161084  161155  161594  161830  161918  161944  \\\n",
       "userId                   ...                                                   \n",
       "1           NaN     NaN  ...     NaN     NaN     NaN     NaN     NaN     NaN   \n",
       "2           NaN     4.0  ...     NaN     NaN     NaN     NaN     NaN     NaN   \n",
       "3           NaN     NaN  ...     NaN     NaN     NaN     NaN     NaN     NaN   \n",
       "4           NaN     4.0  ...     NaN     NaN     NaN     NaN     NaN     NaN   \n",
       "5           NaN     NaN  ...     NaN     NaN     NaN     NaN     NaN     NaN   \n",
       "\n",
       "movieId  162376  162542  162672  163949  \n",
       "userId                                   \n",
       "1           NaN     NaN     NaN     NaN  \n",
       "2           NaN     NaN     NaN     NaN  \n",
       "3           NaN     NaN     NaN     NaN  \n",
       "4           NaN     NaN     NaN     NaN  \n",
       "5           NaN     NaN     NaN     NaN  \n",
       "\n",
       "[5 rows x 9066 columns]"
      ]
     },
     "execution_count": 16,
     "metadata": {},
     "output_type": "execute_result"
    }
   ],
   "source": [
    "# check head of the matrix and see how it looks like\n",
    "interactions_matrix.head()\n"
   ]
  },
  {
   "cell_type": "code",
   "execution_count": 17,
   "metadata": {
    "execution": {
     "iopub.execute_input": "2020-09-26T01:04:14.336394Z",
     "iopub.status.busy": "2020-09-26T01:04:14.334889Z",
     "iopub.status.idle": "2020-09-26T01:04:14.398875Z",
     "shell.execute_reply": "2020-09-26T01:04:14.398061Z"
    },
    "papermill": {
     "duration": 0.103468,
     "end_time": "2020-09-26T01:04:14.399006",
     "exception": false,
     "start_time": "2020-09-26T01:04:14.295538",
     "status": "completed"
    },
    "tags": []
   },
   "outputs": [],
   "source": [
    "# replace all the missing values with zero\n",
    "\n",
    "interactions_matrix=interactions_matrix.fillna(0)"
   ]
  },
  {
   "cell_type": "code",
   "execution_count": 18,
   "metadata": {
    "execution": {
     "iopub.execute_input": "2020-09-26T01:04:14.494115Z",
     "iopub.status.busy": "2020-09-26T01:04:14.480439Z",
     "iopub.status.idle": "2020-09-26T01:04:15.017348Z",
     "shell.execute_reply": "2020-09-26T01:04:15.016427Z"
    },
    "papermill": {
     "duration": 0.58055,
     "end_time": "2020-09-26T01:04:15.017518",
     "exception": false,
     "start_time": "2020-09-26T01:04:14.436968",
     "status": "completed"
    },
    "tags": []
   },
   "outputs": [
    {
     "name": "stdout",
     "output_type": "stream",
     "text": [
      "<class 'pandas.core.frame.DataFrame'>\n",
      "Int64Index: 671 entries, 1 to 671\n",
      "Columns: 9066 entries, 1 to 163949\n",
      "dtypes: float64(9066)\n",
      "memory usage: 46.4 MB\n"
     ]
    }
   ],
   "source": [
    "interactions_matrix.info()"
   ]
  },
  {
   "cell_type": "code",
   "execution_count": 19,
   "metadata": {
    "execution": {
     "iopub.execute_input": "2020-09-26T01:04:15.095025Z",
     "iopub.status.busy": "2020-09-26T01:04:15.094055Z",
     "iopub.status.idle": "2020-09-26T01:04:15.214225Z",
     "shell.execute_reply": "2020-09-26T01:04:15.213507Z"
    },
    "papermill": {
     "duration": 0.16408,
     "end_time": "2020-09-26T01:04:15.214371",
     "exception": false,
     "start_time": "2020-09-26T01:04:15.050291",
     "status": "completed"
    },
    "tags": []
   },
   "outputs": [],
   "source": [
    "# import cosine_similarity from sklearn\n",
    "from sklearn.metrics.pairwise import cosine_similarity\n",
    "def similar_users(user_id, interactions_matrix):\n",
    "    \n",
    "    # compute similarity of each user to the provided user\n",
    "    similarity=[] \n",
    "    for user in range(1,interactions_matrix.shape[0]+1):\n",
    "        sim= cosine_similarity([interactions_matrix.loc[user_id]],[interactions_matrix.loc[user]])\n",
    "        similarity.append((user,sim))\n",
    "    \n",
    "    # sort by similarity\n",
    "    \n",
    "    similarity.sort(key=lambda x:x[1],reverse=True)\n",
    "    # create list of just the user ids\n",
    "    most_similar_users =[tup[0] for tup in similarity]\n",
    "    \n",
    "    # create list of similarity score\n",
    "    \n",
    "    similarity_score=[tup[1] for tup in similarity]\n",
    "    # remove the user's own id\n",
    "    most_similar_users.remove(user_id)\n",
    "    \n",
    "    # remove the user's own similarity score\n",
    "    similarity_score.remove(similarity_score[0])\n",
    "       \n",
    "    return most_similar_users, similarity_score"
   ]
  },
  {
   "cell_type": "code",
   "execution_count": 20,
   "metadata": {
    "execution": {
     "iopub.execute_input": "2020-09-26T01:04:15.299205Z",
     "iopub.status.busy": "2020-09-26T01:04:15.298369Z",
     "iopub.status.idle": "2020-09-26T01:04:23.230515Z",
     "shell.execute_reply": "2020-09-26T01:04:23.229811Z"
    },
    "papermill": {
     "duration": 7.983094,
     "end_time": "2020-09-26T01:04:23.230650",
     "exception": false,
     "start_time": "2020-09-26T01:04:15.247556",
     "status": "completed"
    },
    "tags": []
   },
   "outputs": [
    {
     "data": {
      "text/plain": [
       "670"
      ]
     },
     "execution_count": 20,
     "metadata": {},
     "output_type": "execute_result"
    }
   ],
   "source": [
    "len(similar_users(564,interactions_matrix)[0])"
   ]
  },
  {
   "cell_type": "code",
   "execution_count": 21,
   "metadata": {
    "execution": {
     "iopub.execute_input": "2020-09-26T01:04:23.306311Z",
     "iopub.status.busy": "2020-09-26T01:04:23.305365Z",
     "iopub.status.idle": "2020-09-26T01:04:23.310576Z",
     "shell.execute_reply": "2020-09-26T01:04:23.309793Z"
    },
    "papermill": {
     "duration": 0.044889,
     "end_time": "2020-09-26T01:04:23.310733",
     "exception": false,
     "start_time": "2020-09-26T01:04:23.265844",
     "status": "completed"
    },
    "tags": []
   },
   "outputs": [
    {
     "data": {
      "text/plain": [
       "(671, 9066)"
      ]
     },
     "execution_count": 21,
     "metadata": {},
     "output_type": "execute_result"
    }
   ],
   "source": [
    "interactions_matrix.shape"
   ]
  },
  {
   "cell_type": "code",
   "execution_count": 22,
   "metadata": {
    "execution": {
     "iopub.execute_input": "2020-09-26T01:04:23.402726Z",
     "iopub.status.busy": "2020-09-26T01:04:23.401801Z",
     "iopub.status.idle": "2020-09-26T01:04:31.561811Z",
     "shell.execute_reply": "2020-09-26T01:04:31.562366Z"
    },
    "papermill": {
     "duration": 8.213492,
     "end_time": "2020-09-26T01:04:31.562530",
     "exception": false,
     "start_time": "2020-09-26T01:04:23.349038",
     "status": "completed"
    },
    "tags": []
   },
   "outputs": [
    {
     "data": {
      "text/plain": [
       "[306, 102, 518, 232, 119]"
      ]
     },
     "execution_count": 22,
     "metadata": {},
     "output_type": "execute_result"
    }
   ],
   "source": [
    "# check the implemented function above\n",
    "similar_users(564,interactions_matrix)[0][:5]\n"
   ]
  },
  {
   "cell_type": "code",
   "execution_count": 23,
   "metadata": {
    "execution": {
     "iopub.execute_input": "2020-09-26T01:04:31.662726Z",
     "iopub.status.busy": "2020-09-26T01:04:31.651349Z",
     "iopub.status.idle": "2020-09-26T01:04:39.991899Z",
     "shell.execute_reply": "2020-09-26T01:04:39.991130Z"
    },
    "papermill": {
     "duration": 8.393456,
     "end_time": "2020-09-26T01:04:39.992023",
     "exception": false,
     "start_time": "2020-09-26T01:04:31.598567",
     "status": "completed"
    },
    "tags": []
   },
   "outputs": [
    {
     "data": {
      "text/plain": [
       "[array([[0.4752071]]),\n",
       " array([[0.45945837]]),\n",
       " array([[0.45806577]]),\n",
       " array([[0.42648819]]),\n",
       " array([[0.42188474]])]"
      ]
     },
     "execution_count": 23,
     "metadata": {},
     "output_type": "execute_result"
    }
   ],
   "source": [
    "similar_users(564,interactions_matrix)[1][:5]"
   ]
  },
  {
   "cell_type": "code",
   "execution_count": 24,
   "metadata": {
    "execution": {
     "iopub.execute_input": "2020-09-26T01:04:40.069263Z",
     "iopub.status.busy": "2020-09-26T01:04:40.068432Z",
     "iopub.status.idle": "2020-09-26T01:04:40.072596Z",
     "shell.execute_reply": "2020-09-26T01:04:40.071690Z"
    },
    "papermill": {
     "duration": 0.044188,
     "end_time": "2020-09-26T01:04:40.072760",
     "exception": false,
     "start_time": "2020-09-26T01:04:40.028572",
     "status": "completed"
    },
    "tags": []
   },
   "outputs": [],
   "source": [
    "import numpy as np"
   ]
  },
  {
   "cell_type": "code",
   "execution_count": 25,
   "metadata": {
    "execution": {
     "iopub.execute_input": "2020-09-26T01:04:40.156834Z",
     "iopub.status.busy": "2020-09-26T01:04:40.155701Z",
     "iopub.status.idle": "2020-09-26T01:04:40.159768Z",
     "shell.execute_reply": "2020-09-26T01:04:40.158975Z"
    },
    "papermill": {
     "duration": 0.051145,
     "end_time": "2020-09-26T01:04:40.159923",
     "exception": false,
     "start_time": "2020-09-26T01:04:40.108778",
     "status": "completed"
    },
    "tags": []
   },
   "outputs": [],
   "source": [
    "def recommendations(user_id, num_of_movies, user_item_interactions):\n",
    "    # find the most similar users to the user_id for which we want to recommend movies\n",
    "    most_similar_users = similar_users(user_id, user_item_interactions)[0]\n",
    "    # find out those movies which this user has already interacted with\n",
    "    movie_ids = set(list(interactions_matrix.columns[np.where(interactions_matrix.loc[user_id]>0)]))\n",
    "    # create an empty list to store the recommended movies\n",
    "    recommendations = []\n",
    "    \n",
    "    # copy those movies which are already interacted by user_id\n",
    "    already_interacted = movie_ids.copy()\n",
    "    # loop through each similar user from the list of most_similar_users\n",
    "    for similar_user in most_similar_users:\n",
    "        # implement the below code till the length of recommended movies does not become equal to num_of_movies\n",
    "        if len(recommendations) < num_of_movies:\n",
    "            # store all the movies interacted by each similar user to user_id\n",
    "            similar_user_movie_ids = set(list(interactions_matrix.columns[np.where(interactions_matrix.loc[similar_user]>0)]))\n",
    "            # add those movies in the recommended list which are present in similar_user_movie_ids but not present in already_interacted\n",
    "            recommendations.extend(list(similar_user_movie_ids.difference(already_interacted))) \n",
    "            # now add all those movies into already_interacted which we already added in recommendations\n",
    "            already_interacted = already_interacted.union(similar_user_movie_ids)\n",
    "        else:\n",
    "            break\n",
    "                \n",
    "    \n",
    "    return recommendations[:num_of_movies]"
   ]
  },
  {
   "cell_type": "code",
   "execution_count": 26,
   "metadata": {
    "execution": {
     "iopub.execute_input": "2020-09-26T01:04:40.252917Z",
     "iopub.status.busy": "2020-09-26T01:04:40.251964Z",
     "iopub.status.idle": "2020-09-26T01:04:48.312207Z",
     "shell.execute_reply": "2020-09-26T01:04:48.311364Z"
    },
    "papermill": {
     "duration": 8.114382,
     "end_time": "2020-09-26T01:04:48.312369",
     "exception": false,
     "start_time": "2020-09-26T01:04:40.197987",
     "status": "completed"
    },
    "tags": []
   },
   "outputs": [
    {
     "data": {
      "text/plain": [
       "[1537, 515, 1027, 2565, 524]"
      ]
     },
     "execution_count": 26,
     "metadata": {},
     "output_type": "execute_result"
    }
   ],
   "source": [
    "# check the implemented function above\n",
    "\n",
    "recommendations(564,5,interactions_matrix)"
   ]
  },
  {
   "cell_type": "markdown",
   "metadata": {
    "papermill": {
     "duration": 0.039083,
     "end_time": "2020-09-26T01:04:48.392659",
     "exception": false,
     "start_time": "2020-09-26T01:04:48.353576",
     "status": "completed"
    },
    "tags": []
   },
   "source": [
    "Let's recommend three movies to a new user which do not have interactions history in the dataset?"
   ]
  },
  {
   "cell_type": "code",
   "execution_count": 27,
   "metadata": {
    "execution": {
     "iopub.execute_input": "2020-09-26T01:04:48.474778Z",
     "iopub.status.busy": "2020-09-26T01:04:48.473942Z",
     "iopub.status.idle": "2020-09-26T01:04:48.484821Z",
     "shell.execute_reply": "2020-09-26T01:04:48.484038Z"
    },
    "papermill": {
     "duration": 0.053565,
     "end_time": "2020-09-26T01:04:48.484952",
     "exception": false,
     "start_time": "2020-09-26T01:04:48.431387",
     "status": "completed"
    },
    "tags": []
   },
   "outputs": [
    {
     "data": {
      "text/plain": [
       "356       341\n",
       "296       324\n",
       "318       311\n",
       "593       304\n",
       "260       291\n",
       "         ... \n",
       "48520       1\n",
       "111913      1\n",
       "1311        1\n",
       "27922       1\n",
       "2049        1\n",
       "Name: movieId, Length: 9066, dtype: int64"
      ]
     },
     "execution_count": 27,
     "metadata": {},
     "output_type": "execute_result"
    }
   ],
   "source": [
    "# recommend top three movies to the new user\n",
    "\n",
    "movies['movieId'].value_counts()"
   ]
  },
  {
   "cell_type": "code",
   "execution_count": null,
   "metadata": {
    "papermill": {
     "duration": 0.037276,
     "end_time": "2020-09-26T01:04:48.559634",
     "exception": false,
     "start_time": "2020-09-26T01:04:48.522358",
     "status": "completed"
    },
    "tags": []
   },
   "outputs": [],
   "source": []
  }
 ],
 "metadata": {
  "kernelspec": {
   "display_name": "Python 3",
   "language": "python",
   "name": "python3"
  },
  "language_info": {
   "codemirror_mode": {
    "name": "ipython",
    "version": 3
   },
   "file_extension": ".py",
   "mimetype": "text/x-python",
   "name": "python",
   "nbconvert_exporter": "python",
   "pygments_lexer": "ipython3",
   "version": "3.7.6"
  },
  "papermill": {
   "duration": 42.429607,
   "end_time": "2020-09-26T01:04:48.705369",
   "environment_variables": {},
   "exception": null,
   "input_path": "__notebook__.ipynb",
   "output_path": "__notebook__.ipynb",
   "parameters": {},
   "start_time": "2020-09-26T01:04:06.275762",
   "version": "2.1.0"
  }
 },
 "nbformat": 4,
 "nbformat_minor": 4
}
